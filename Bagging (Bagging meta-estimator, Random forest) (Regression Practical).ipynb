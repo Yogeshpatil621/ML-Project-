{
 "cells": [
  {
   "cell_type": "markdown",
   "id": "d204ba1f",
   "metadata": {},
   "source": [
    "# Bagging (Bagging meta-estimator, Random forest) (Regression Practical)"
   ]
  },
  {
   "cell_type": "code",
   "execution_count": 11,
   "id": "fc6e7977",
   "metadata": {},
   "outputs": [
    {
     "name": "stderr",
     "output_type": "stream",
     "text": [
      "C:\\Users\\Smart\\anaconda\\lib\\site-packages\\sklearn\\preprocessing\\_encoders.py:975: FutureWarning: `sparse` was renamed to `sparse_output` in version 1.2 and will be removed in 1.4. `sparse_output` is ignored unless you leave `sparse` to its default value.\n",
      "  warnings.warn(\n"
     ]
    }
   ],
   "source": [
    "import pandas as pd\n",
    "from sklearn.model_selection import train_test_split\n",
    "from sklearn.preprocessing import OneHotEncoder\n",
    "from sklearn.ensemble import BaggingRegressor, RandomForestRegressor\n",
    "from sklearn.metrics import mean_squared_error\n",
    "\n",
    "# Example dataset\n",
    "data = {'city': ['Los Angeles', 'New York', 'San Francisco', 'Chicago', 'Boston'],\n",
    "        'feature1': [10, 20, 30, 40, 50],\n",
    "        'feature2': [100, 200, 300, 400, 500],\n",
    "        'target': [1000, 2000, 3000, 4000, 5000]}\n",
    "\n",
    "df = pd.DataFrame(data)\n",
    "\n",
    "# Split data into features and target\n",
    "X = df.drop('target', axis=1)\n",
    "y = df['target']\n",
    "\n",
    "# Identify non-numeric columns\n",
    "non_numeric_cols = X.select_dtypes(include=['object']).columns\n",
    "\n",
    "# Use one-hot encoding to convert non-numeric columns\n",
    "one_hot_encoder = OneHotEncoder(sparse=False, drop='first')\n",
    "\n",
    "# Fit and transform the non-numeric columns for training set\n",
    "encoded_cols = one_hot_encoder.fit_transform(X[non_numeric_cols])\n",
    "\n",
    "# Convert to DataFrame\n",
    "encoded_df = pd.DataFrame(encoded_cols, columns=one_hot_encoder.get_feature_names_out(non_numeric_cols))\n",
    "\n",
    "# Drop the original non-numeric columns and concatenate the encoded columns\n",
    "X = X.drop(non_numeric_cols, axis=1)\n",
    "X = pd.concat([X, encoded_df])\n"
   ]
  },
  {
   "cell_type": "code",
   "execution_count": null,
   "id": "5ba4a916",
   "metadata": {},
   "outputs": [],
   "source": []
  }
 ],
 "metadata": {
  "kernelspec": {
   "display_name": "Python 3",
   "language": "python",
   "name": "python3"
  },
  "language_info": {
   "codemirror_mode": {
    "name": "ipython",
    "version": 3
   },
   "file_extension": ".py",
   "mimetype": "text/x-python",
   "name": "python",
   "nbconvert_exporter": "python",
   "pygments_lexer": "ipython3",
   "version": "3.8.8"
  }
 },
 "nbformat": 4,
 "nbformat_minor": 5
}
