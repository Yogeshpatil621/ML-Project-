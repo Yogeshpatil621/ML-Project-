{
 "cells": [
  {
   "cell_type": "markdown",
   "id": "e292cdb2",
   "metadata": {},
   "source": [
    "# Outlier"
   ]
  },
  {
   "cell_type": "code",
   "execution_count": 1,
   "id": "4fbc1a94",
   "metadata": {},
   "outputs": [],
   "source": [
    "import pandas as pd\n",
    "import matplotlib.pyplot as plt \n",
    "import seaborn as sns"
   ]
  },
  {
   "cell_type": "code",
   "execution_count": 45,
   "id": "11cb75ab",
   "metadata": {},
   "outputs": [
    {
     "data": {
      "text/html": [
       "<div>\n",
       "<style scoped>\n",
       "    .dataframe tbody tr th:only-of-type {\n",
       "        vertical-align: middle;\n",
       "    }\n",
       "\n",
       "    .dataframe tbody tr th {\n",
       "        vertical-align: top;\n",
       "    }\n",
       "\n",
       "    .dataframe thead th {\n",
       "        text-align: right;\n",
       "    }\n",
       "</style>\n",
       "<table border=\"1\" class=\"dataframe\">\n",
       "  <thead>\n",
       "    <tr style=\"text-align: right;\">\n",
       "      <th></th>\n",
       "      <th>Gender</th>\n",
       "      <th>Married</th>\n",
       "      <th>Dependents</th>\n",
       "      <th>Education</th>\n",
       "      <th>Self_Employed</th>\n",
       "      <th>Applicant_Income</th>\n",
       "      <th>Coapplicant_Income</th>\n",
       "      <th>Loan_Amount</th>\n",
       "      <th>Term</th>\n",
       "      <th>Credit_History</th>\n",
       "      <th>Area</th>\n",
       "    </tr>\n",
       "  </thead>\n",
       "  <tbody>\n",
       "    <tr>\n",
       "      <th>0</th>\n",
       "      <td>Male</td>\n",
       "      <td>Yes</td>\n",
       "      <td>0</td>\n",
       "      <td>Graduate</td>\n",
       "      <td>No</td>\n",
       "      <td>572000</td>\n",
       "      <td>0</td>\n",
       "      <td>11000000</td>\n",
       "      <td>360.0</td>\n",
       "      <td>1.0</td>\n",
       "      <td>Urban</td>\n",
       "    </tr>\n",
       "    <tr>\n",
       "      <th>1</th>\n",
       "      <td>Male</td>\n",
       "      <td>Yes</td>\n",
       "      <td>1</td>\n",
       "      <td>Graduate</td>\n",
       "      <td>No</td>\n",
       "      <td>307600</td>\n",
       "      <td>150000</td>\n",
       "      <td>12600000</td>\n",
       "      <td>360.0</td>\n",
       "      <td>1.0</td>\n",
       "      <td>Urban</td>\n",
       "    </tr>\n",
       "    <tr>\n",
       "      <th>2</th>\n",
       "      <td>Male</td>\n",
       "      <td>Yes</td>\n",
       "      <td>2</td>\n",
       "      <td>Graduate</td>\n",
       "      <td>No</td>\n",
       "      <td>500000</td>\n",
       "      <td>180000</td>\n",
       "      <td>20800000</td>\n",
       "      <td>360.0</td>\n",
       "      <td>1.0</td>\n",
       "      <td>Urban</td>\n",
       "    </tr>\n",
       "  </tbody>\n",
       "</table>\n",
       "</div>"
      ],
      "text/plain": [
       "  Gender Married Dependents Education Self_Employed  Applicant_Income  \\\n",
       "0   Male     Yes          0  Graduate            No            572000   \n",
       "1   Male     Yes          1  Graduate            No            307600   \n",
       "2   Male     Yes          2  Graduate            No            500000   \n",
       "\n",
       "   Coapplicant_Income  Loan_Amount   Term  Credit_History   Area  \n",
       "0                   0     11000000  360.0             1.0  Urban  \n",
       "1              150000     12600000  360.0             1.0  Urban  \n",
       "2              180000     20800000  360.0             1.0  Urban  "
      ]
     },
     "execution_count": 45,
     "metadata": {},
     "output_type": "execute_result"
    }
   ],
   "source": [
    "dataset=pd.read_csv(r\"C:/Users/Smart/Downloads/loan_test.csv\")\n",
    "dataset.head(3)"
   ]
  },
  {
   "cell_type": "code",
   "execution_count": 4,
   "id": "59bf104a",
   "metadata": {},
   "outputs": [
    {
     "name": "stdout",
     "output_type": "stream",
     "text": [
      "<class 'pandas.core.frame.DataFrame'>\n",
      "RangeIndex: 367 entries, 0 to 366\n",
      "Data columns (total 11 columns):\n",
      " #   Column              Non-Null Count  Dtype  \n",
      "---  ------              --------------  -----  \n",
      " 0   Gender              356 non-null    object \n",
      " 1   Married             367 non-null    object \n",
      " 2   Dependents          357 non-null    object \n",
      " 3   Education           367 non-null    object \n",
      " 4   Self_Employed       344 non-null    object \n",
      " 5   Applicant_Income    367 non-null    int64  \n",
      " 6   Coapplicant_Income  367 non-null    int64  \n",
      " 7   Loan_Amount         367 non-null    int64  \n",
      " 8   Term                361 non-null    float64\n",
      " 9   Credit_History      338 non-null    float64\n",
      " 10  Area                367 non-null    object \n",
      "dtypes: float64(2), int64(3), object(6)\n",
      "memory usage: 31.7+ KB\n"
     ]
    }
   ],
   "source": [
    "dataset.info()"
   ]
  },
  {
   "cell_type": "code",
   "execution_count": 5,
   "id": "dd2401d3",
   "metadata": {},
   "outputs": [
    {
     "data": {
      "text/html": [
       "<div>\n",
       "<style scoped>\n",
       "    .dataframe tbody tr th:only-of-type {\n",
       "        vertical-align: middle;\n",
       "    }\n",
       "\n",
       "    .dataframe tbody tr th {\n",
       "        vertical-align: top;\n",
       "    }\n",
       "\n",
       "    .dataframe thead th {\n",
       "        text-align: right;\n",
       "    }\n",
       "</style>\n",
       "<table border=\"1\" class=\"dataframe\">\n",
       "  <thead>\n",
       "    <tr style=\"text-align: right;\">\n",
       "      <th></th>\n",
       "      <th>Applicant_Income</th>\n",
       "      <th>Coapplicant_Income</th>\n",
       "      <th>Loan_Amount</th>\n",
       "      <th>Term</th>\n",
       "      <th>Credit_History</th>\n",
       "    </tr>\n",
       "  </thead>\n",
       "  <tbody>\n",
       "    <tr>\n",
       "      <th>count</th>\n",
       "      <td>3.670000e+02</td>\n",
       "      <td>3.670000e+02</td>\n",
       "      <td>3.670000e+02</td>\n",
       "      <td>361.000000</td>\n",
       "      <td>338.000000</td>\n",
       "    </tr>\n",
       "    <tr>\n",
       "      <th>mean</th>\n",
       "      <td>4.805599e+05</td>\n",
       "      <td>1.569578e+05</td>\n",
       "      <td>1.342779e+07</td>\n",
       "      <td>342.537396</td>\n",
       "      <td>0.825444</td>\n",
       "    </tr>\n",
       "    <tr>\n",
       "      <th>std</th>\n",
       "      <td>4.910685e+05</td>\n",
       "      <td>2.334232e+05</td>\n",
       "      <td>6.296143e+06</td>\n",
       "      <td>65.156643</td>\n",
       "      <td>0.380150</td>\n",
       "    </tr>\n",
       "    <tr>\n",
       "      <th>min</th>\n",
       "      <td>0.000000e+00</td>\n",
       "      <td>0.000000e+00</td>\n",
       "      <td>0.000000e+00</td>\n",
       "      <td>6.000000</td>\n",
       "      <td>0.000000</td>\n",
       "    </tr>\n",
       "    <tr>\n",
       "      <th>25%</th>\n",
       "      <td>2.864000e+05</td>\n",
       "      <td>0.000000e+00</td>\n",
       "      <td>1.000000e+07</td>\n",
       "      <td>360.000000</td>\n",
       "      <td>1.000000</td>\n",
       "    </tr>\n",
       "    <tr>\n",
       "      <th>50%</th>\n",
       "      <td>3.786000e+05</td>\n",
       "      <td>1.025000e+05</td>\n",
       "      <td>1.250000e+07</td>\n",
       "      <td>360.000000</td>\n",
       "      <td>1.000000</td>\n",
       "    </tr>\n",
       "    <tr>\n",
       "      <th>75%</th>\n",
       "      <td>5.060000e+05</td>\n",
       "      <td>2.430500e+05</td>\n",
       "      <td>1.575000e+07</td>\n",
       "      <td>360.000000</td>\n",
       "      <td>1.000000</td>\n",
       "    </tr>\n",
       "    <tr>\n",
       "      <th>max</th>\n",
       "      <td>7.252900e+06</td>\n",
       "      <td>2.400000e+06</td>\n",
       "      <td>5.500000e+07</td>\n",
       "      <td>480.000000</td>\n",
       "      <td>1.000000</td>\n",
       "    </tr>\n",
       "  </tbody>\n",
       "</table>\n",
       "</div>"
      ],
      "text/plain": [
       "       Applicant_Income  Coapplicant_Income   Loan_Amount        Term  \\\n",
       "count      3.670000e+02        3.670000e+02  3.670000e+02  361.000000   \n",
       "mean       4.805599e+05        1.569578e+05  1.342779e+07  342.537396   \n",
       "std        4.910685e+05        2.334232e+05  6.296143e+06   65.156643   \n",
       "min        0.000000e+00        0.000000e+00  0.000000e+00    6.000000   \n",
       "25%        2.864000e+05        0.000000e+00  1.000000e+07  360.000000   \n",
       "50%        3.786000e+05        1.025000e+05  1.250000e+07  360.000000   \n",
       "75%        5.060000e+05        2.430500e+05  1.575000e+07  360.000000   \n",
       "max        7.252900e+06        2.400000e+06  5.500000e+07  480.000000   \n",
       "\n",
       "       Credit_History  \n",
       "count      338.000000  \n",
       "mean         0.825444  \n",
       "std          0.380150  \n",
       "min          0.000000  \n",
       "25%          1.000000  \n",
       "50%          1.000000  \n",
       "75%          1.000000  \n",
       "max          1.000000  "
      ]
     },
     "execution_count": 5,
     "metadata": {},
     "output_type": "execute_result"
    }
   ],
   "source": [
    "dataset.describe()"
   ]
  },
  {
   "cell_type": "code",
   "execution_count": 10,
   "id": "78b3bbc8",
   "metadata": {},
   "outputs": [
    {
     "data": {
      "image/png": "[encoded data removed]",
      "text/plain": [
       "<Figure size 432x288 with 1 Axes>"
      ]
     },
     "metadata": {
      "needs_background": "light"
     },
     "output_type": "display_data"
    }
   ],
   "source": [
    "sns.boxenplot( x=\"Coapplicant_Income\",data=dataset)\n",
    "plt.show()"
   ]
  },
  {
   "cell_type": "code",
   "execution_count": 13,
   "id": "66a06842",
   "metadata": {},
   "outputs": [
    {
     "data": {
      "image/png": "[encoded data removed]",
      "text/plain": [
       "<Figure size 360x360 with 1 Axes>"
      ]
     },
     "metadata": {
      "needs_background": "light"
     },
     "output_type": "display_data"
    }
   ],
   "source": [
    "sns.displot(dataset[\"Applicant_Income\"])\n",
    "plt.show()"
   ]
  },
  {
   "cell_type": "markdown",
   "id": "33dcbd92",
   "metadata": {},
   "source": [
    "# Remove Outliers using IQR"
   ]
  },
  {
   "cell_type": "code",
   "execution_count": 14,
   "id": "40189846",
   "metadata": {},
   "outputs": [
    {
     "data": {
      "image/png": "[encoded data removed]",
      "text/plain": [
       "<Figure size 432x288 with 1 Axes>"
      ]
     },
     "metadata": {
      "needs_background": "light"
     },
     "output_type": "display_data"
    }
   ],
   "source": [
    "sns.boxplot(x=\"Coapplicant_Income\",data=dataset)\n",
    "plt.show()"
   ]
  },
  {
   "cell_type": "code",
   "execution_count": 15,
   "id": "8bebc941",
   "metadata": {},
   "outputs": [
    {
     "data": {
      "text/plain": [
       "(367, 11)"
      ]
     },
     "execution_count": 15,
     "metadata": {},
     "output_type": "execute_result"
    }
   ],
   "source": [
    "dataset.shape"
   ]
  },
  {
   "cell_type": "code",
   "execution_count": 21,
   "id": "1694ac88",
   "metadata": {},
   "outputs": [],
   "source": [
    "q1 = dataset[\"Coapplicant_Income\"].quantile(0.25)  \n",
    "q3 = dataset[\"Coapplicant_Income\"].quantile(0.75) "
   ]
  },
  {
   "cell_type": "code",
   "execution_count": 22,
   "id": "2fac300e",
   "metadata": {},
   "outputs": [
    {
     "data": {
      "text/plain": [
       "0.0"
      ]
     },
     "execution_count": 22,
     "metadata": {},
     "output_type": "execute_result"
    }
   ],
   "source": [
    "q1"
   ]
  },
  {
   "cell_type": "code",
   "execution_count": 23,
   "id": "fd339e64",
   "metadata": {},
   "outputs": [
    {
     "data": {
      "text/plain": [
       "243050.0"
      ]
     },
     "execution_count": 23,
     "metadata": {},
     "output_type": "execute_result"
    }
   ],
   "source": [
    "q3"
   ]
  },
  {
   "cell_type": "code",
   "execution_count": 26,
   "id": "efb82908",
   "metadata": {},
   "outputs": [],
   "source": [
    "IQR=q3-q1"
   ]
  },
  {
   "cell_type": "code",
   "execution_count": 28,
   "id": "668fa5c0",
   "metadata": {},
   "outputs": [],
   "source": [
    "import numpy as np"
   ]
  },
  {
   "cell_type": "code",
   "execution_count": 32,
   "id": "46472c2b",
   "metadata": {},
   "outputs": [
    {
     "data": {
      "text/plain": [
       "607625.0"
      ]
     },
     "execution_count": 32,
     "metadata": {},
     "output_type": "execute_result"
    }
   ],
   "source": [
    "min_range=q1-(1.5*IQR)\n",
    "max_range=q3+(1.5*IQR)\n",
    "min_range"
   ]
  },
  {
   "cell_type": "code",
   "execution_count": 33,
   "id": "a50bd22e",
   "metadata": {},
   "outputs": [
    {
     "data": {
      "text/plain": [
       "607625.0"
      ]
     },
     "execution_count": 33,
     "metadata": {},
     "output_type": "execute_result"
    }
   ],
   "source": [
    "max_range"
   ]
  },
  {
   "cell_type": "code",
   "execution_count": 37,
   "id": "4d060e6a",
   "metadata": {},
   "outputs": [],
   "source": [
    "new_dataset=dataset[dataset[\"Coapplicant_Income\"]<max_range]"
   ]
  },
  {
   "cell_type": "code",
   "execution_count": 38,
   "id": "86351845",
   "metadata": {},
   "outputs": [
    {
     "data": {
      "text/plain": [
       "(359, 11)"
      ]
     },
     "execution_count": 38,
     "metadata": {},
     "output_type": "execute_result"
    }
   ],
   "source": [
    "new_dataset.shape"
   ]
  },
  {
   "cell_type": "code",
   "execution_count": 39,
   "id": "db8d10d2",
   "metadata": {},
   "outputs": [
    {
     "data": {
      "image/png": "[encoded data removed]",
      "text/plain": [
       "<Figure size 432x288 with 1 Axes>"
      ]
     },
     "metadata": {
      "needs_background": "light"
     },
     "output_type": "display_data"
    }
   ],
   "source": [
    "sns.boxplot(x=\"Coapplicant_Income\",data=new_dataset)\n",
    "plt.show()"
   ]
  },
  {
   "cell_type": "markdown",
   "id": "d49046f8",
   "metadata": {},
   "source": [
    "# Feature Scaling (Standardization)"
   ]
  },
  {
   "cell_type": "code",
   "execution_count": 72,
   "id": "231938f8",
   "metadata": {},
   "outputs": [],
   "source": [
    "import pandas as pd\n",
    "import matplotlib.pyplot as plt \n",
    "import seaborn as sns"
   ]
  },
  {
   "cell_type": "code",
   "execution_count": 73,
   "id": "42e021fa",
   "metadata": {},
   "outputs": [
    {
     "data": {
      "text/html": [
       "<div>\n",
       "<style scoped>\n",
       "    .dataframe tbody tr th:only-of-type {\n",
       "        vertical-align: middle;\n",
       "    }\n",
       "\n",
       "    .dataframe tbody tr th {\n",
       "        vertical-align: top;\n",
       "    }\n",
       "\n",
       "    .dataframe thead th {\n",
       "        text-align: right;\n",
       "    }\n",
       "</style>\n",
       "<table border=\"1\" class=\"dataframe\">\n",
       "  <thead>\n",
       "    <tr style=\"text-align: right;\">\n",
       "      <th></th>\n",
       "      <th>Gender</th>\n",
       "      <th>Married</th>\n",
       "      <th>Dependents</th>\n",
       "      <th>Education</th>\n",
       "      <th>Self_Employed</th>\n",
       "      <th>Applicant_Income</th>\n",
       "      <th>Coapplicant_Income</th>\n",
       "      <th>Loan_Amount</th>\n",
       "      <th>Term</th>\n",
       "      <th>Credit_History</th>\n",
       "      <th>Area</th>\n",
       "    </tr>\n",
       "  </thead>\n",
       "  <tbody>\n",
       "    <tr>\n",
       "      <th>0</th>\n",
       "      <td>Male</td>\n",
       "      <td>Yes</td>\n",
       "      <td>0</td>\n",
       "      <td>Graduate</td>\n",
       "      <td>No</td>\n",
       "      <td>572000</td>\n",
       "      <td>0</td>\n",
       "      <td>11000000</td>\n",
       "      <td>360.0</td>\n",
       "      <td>1.0</td>\n",
       "      <td>Urban</td>\n",
       "    </tr>\n",
       "    <tr>\n",
       "      <th>1</th>\n",
       "      <td>Male</td>\n",
       "      <td>Yes</td>\n",
       "      <td>1</td>\n",
       "      <td>Graduate</td>\n",
       "      <td>No</td>\n",
       "      <td>307600</td>\n",
       "      <td>150000</td>\n",
       "      <td>12600000</td>\n",
       "      <td>360.0</td>\n",
       "      <td>1.0</td>\n",
       "      <td>Urban</td>\n",
       "    </tr>\n",
       "    <tr>\n",
       "      <th>2</th>\n",
       "      <td>Male</td>\n",
       "      <td>Yes</td>\n",
       "      <td>2</td>\n",
       "      <td>Graduate</td>\n",
       "      <td>No</td>\n",
       "      <td>500000</td>\n",
       "      <td>180000</td>\n",
       "      <td>20800000</td>\n",
       "      <td>360.0</td>\n",
       "      <td>1.0</td>\n",
       "      <td>Urban</td>\n",
       "    </tr>\n",
       "  </tbody>\n",
       "</table>\n",
       "</div>"
      ],
      "text/plain": [
       "  Gender Married Dependents Education Self_Employed  Applicant_Income  \\\n",
       "0   Male     Yes          0  Graduate            No            572000   \n",
       "1   Male     Yes          1  Graduate            No            307600   \n",
       "2   Male     Yes          2  Graduate            No            500000   \n",
       "\n",
       "   Coapplicant_Income  Loan_Amount   Term  Credit_History   Area  \n",
       "0                   0     11000000  360.0             1.0  Urban  \n",
       "1              150000     12600000  360.0             1.0  Urban  \n",
       "2              180000     20800000  360.0             1.0  Urban  "
      ]
     },
     "execution_count": 73,
     "metadata": {},
     "output_type": "execute_result"
    }
   ],
   "source": [
    "dataset1=pd.read_csv(r\"C:/Users/Smart/Downloads/loan_test.csv\")\n",
    "dataset1.head(3)"
   ]
  },
  {
   "cell_type": "code",
   "execution_count": 74,
   "id": "76308f7b",
   "metadata": {},
   "outputs": [
    {
     "data": {
      "text/plain": [
       "Gender                11\n",
       "Married                0\n",
       "Dependents            10\n",
       "Education              0\n",
       "Self_Employed         23\n",
       "Applicant_Income       0\n",
       "Coapplicant_Income     0\n",
       "Loan_Amount            0\n",
       "Term                   6\n",
       "Credit_History        29\n",
       "Area                   0\n",
       "dtype: int64"
      ]
     },
     "execution_count": 74,
     "metadata": {},
     "output_type": "execute_result"
    }
   ],
   "source": [
    "dataset1.isnull().sum()"
   ]
  },
  {
   "cell_type": "code",
   "execution_count": 75,
   "id": "9d07b883",
   "metadata": {},
   "outputs": [],
   "source": [
    "dataset1[\"Applicant_Income\"].fillna(dataset1[\"Applicant_Income\"].mean(),inplace=True)"
   ]
  },
  {
   "cell_type": "code",
   "execution_count": 76,
   "id": "9ffb9a03",
   "metadata": {},
   "outputs": [],
   "source": [
    "from sklearn.preprocessing import StandardScaler"
   ]
  },
  {
   "cell_type": "code",
   "execution_count": 77,
   "id": "e966497d",
   "metadata": {
    "scrolled": true
   },
   "outputs": [
    {
     "data": {
      "text/plain": [
       "StandardScaler()"
      ]
     },
     "execution_count": 77,
     "metadata": {},
     "output_type": "execute_result"
    }
   ],
   "source": [
    "ss=StandardScaler()\n",
    "ss.fit(dataset1[[\"Applicant_Income\"]])"
   ]
  },
  {
   "cell_type": "code",
   "execution_count": 78,
   "id": "4e6d12b9",
   "metadata": {},
   "outputs": [
    {
     "data": {
      "text/plain": [
       "array([[ 1.86460504e-01],\n",
       "       [-3.52692250e-01],\n",
       "       [ 3.96412970e-02],\n",
       "       [-5.02774106e-01],\n",
       "       [-3.11909137e-01],\n",
       "       [-5.38459330e-01],\n",
       "       [-5.26020481e-01],\n",
       "       [-1.88540220e-01],\n",
       "       [ 1.80004437e+00],\n",
       "       [-4.90539172e-01],\n",
       "       [-3.49633517e-01],\n",
       "       [-5.34381019e-01],\n",
       "       [-1.30424284e-01],\n",
       "       [ 1.50232765e+00],\n",
       "       [-2.84665018e-02],\n",
       "       [ 1.75652979e-01],\n",
       "       [-4.53914937e-02],\n",
       "       [-2.07912199e-01],\n",
       "       [ 9.01388475e-01],\n",
       "       [-7.14846294e-01],\n",
       "       [-5.94943942e-01],\n",
       "       [-5.55180407e-01],\n",
       "       [-1.82830585e-01],\n",
       "       [-2.12194426e-01],\n",
       "       [ 1.21207523e-01],\n",
       "       [-9.79936529e-01],\n",
       "       [-9.02529180e-02],\n",
       "       [ 5.49430210e-01],\n",
       "       [-2.10767017e-01],\n",
       "       [-3.80016936e-01],\n",
       "       [-4.74633758e-01],\n",
       "       [ 2.94535753e-01],\n",
       "       [-3.13540462e-01],\n",
       "       [-4.12439511e-01],\n",
       "       [-4.21207880e-01],\n",
       "       [-3.37602499e-01],\n",
       "       [ 5.18842875e-01],\n",
       "       [-5.17659943e-01],\n",
       "       [ 2.09502963e-01],\n",
       "       [-2.37072125e-01],\n",
       "       [ 1.67904187e-01],\n",
       "       [-2.36868209e-01],\n",
       "       [-6.23084290e-01],\n",
       "       [ 3.45514645e-01],\n",
       "       [-2.32382067e-01],\n",
       "       [-1.11256221e-01],\n",
       "       [-1.31036031e-01],\n",
       "       [-4.99511457e-01],\n",
       "       [ 4.05057990e-01],\n",
       "       [ 6.51387992e-01],\n",
       "       [-4.86664777e-01],\n",
       "       [-2.66232051e-01],\n",
       "       [-2.66232051e-01],\n",
       "       [-1.40620063e-01],\n",
       "       [ 9.93885576e-02],\n",
       "       [-4.19168725e-01],\n",
       "       [-8.23002110e-02],\n",
       "       [-2.43189592e-01],\n",
       "       [-4.13255173e-01],\n",
       "       [-1.74550613e-02],\n",
       "       [-4.87480439e-01],\n",
       "       [ 4.50735076e-01],\n",
       "       [ 3.31159989e-02],\n",
       "       [-5.51509926e-01],\n",
       "       [-6.43556412e-02],\n",
       "       [-3.85114825e-01],\n",
       "       [-2.15333726e-02],\n",
       "       [-2.77447407e-01],\n",
       "       [ 5.83280194e-01],\n",
       "       [-4.78712070e-01],\n",
       "       [-3.17210942e-01],\n",
       "       [-6.98613615e-02],\n",
       "       [-1.47349276e-01],\n",
       "       [-1.84665825e-01],\n",
       "       [-1.13375943e-02],\n",
       "       [-2.49307059e-01],\n",
       "       [-3.29649791e-01],\n",
       "       [ 3.16150803e-01],\n",
       "       [-2.83972705e-01],\n",
       "       [ 6.41192214e-01],\n",
       "       [-1.99143830e-01],\n",
       "       [ 1.38098555e+01],\n",
       "       [-1.36541751e-01],\n",
       "       [ 7.42946081e-01],\n",
       "       [-7.12887704e-02],\n",
       "       [-3.47878843e-02],\n",
       "       [-2.51754046e-01],\n",
       "       [-3.54731406e-01],\n",
       "       [-3.20269675e-01],\n",
       "       [ 5.14683998e-02],\n",
       "       [-3.29853707e-01],\n",
       "       [ 1.77659408e+00],\n",
       "       [-9.00490024e-02],\n",
       "       [-8.07494525e-03],\n",
       "       [-4.00896890e-02],\n",
       "       [ 2.96574909e-01],\n",
       "       [-3.00285950e-01],\n",
       "       [-2.66232051e-01],\n",
       "       [ 1.00191885e+00],\n",
       "       [ 4.13826359e-01],\n",
       "       [-7.21044327e-02],\n",
       "       [-5.18679520e-01],\n",
       "       [-1.84461909e-01],\n",
       "       [-4.32015405e-01],\n",
       "       [-5.22553916e-01],\n",
       "       [-2.83157043e-01],\n",
       "       [-6.54487287e-01],\n",
       "       [-5.96655832e-02],\n",
       "       [-6.23164856e-02],\n",
       "       [-5.76264276e-02],\n",
       "       [-1.29689188e-02],\n",
       "       [-1.47553192e-01],\n",
       "       [-2.83157043e-01],\n",
       "       [-3.84095247e-01],\n",
       "       [-1.30220369e-01],\n",
       "       [-1.14722786e-01],\n",
       "       [-9.79936529e-01],\n",
       "       [-6.70800532e-01],\n",
       "       [-6.20637303e-01],\n",
       "       [-8.32301660e-01],\n",
       "       [-3.42700388e-01],\n",
       "       [-5.04201515e-01],\n",
       "       [-2.96819385e-01],\n",
       "       [-4.70147616e-01],\n",
       "       [ 1.56900804e+00],\n",
       "       [-2.82625862e-02],\n",
       "       [ 3.45514645e-01],\n",
       "       [ 5.49430210e-01],\n",
       "       [-3.53303997e-01],\n",
       "       [-3.02732937e-01],\n",
       "       [-3.00285950e-01],\n",
       "       [-2.88458847e-01],\n",
       "       [-2.98246794e-01],\n",
       "       [-2.41762183e-01],\n",
       "       [-1.64274268e-01],\n",
       "       [-1.11664052e-01],\n",
       "       [-6.23164856e-02],\n",
       "       [-5.69250581e-01],\n",
       "       [-3.00285950e-01],\n",
       "       [-1.47349276e-01],\n",
       "       [-1.60276523e-02],\n",
       "       [-3.50041348e-01],\n",
       "       [ 4.05465821e-01],\n",
       "       [ 5.54536156e+00],\n",
       "       [ 1.24070398e+00],\n",
       "       [ 1.65893480e+00],\n",
       "       [-3.11909137e-01],\n",
       "       [ 7.94740635e-01],\n",
       "       [-1.29689188e-02],\n",
       "       [ 2.23165306e-01],\n",
       "       [-3.53711828e-01],\n",
       "       [-4.12439511e-01],\n",
       "       [ 3.96412970e-02],\n",
       "       [-4.77692492e-01],\n",
       "       [ 1.00735400e-02],\n",
       "       [-6.53875540e-01],\n",
       "       [-1.14111039e-01],\n",
       "       [-9.63703850e-02],\n",
       "       [ 2.07463807e-01],\n",
       "       [ 6.29976858e-01],\n",
       "       [-1.33686933e-01],\n",
       "       [-3.75530794e-01],\n",
       "       [ 1.58524071e-01],\n",
       "       [-4.27733178e-01],\n",
       "       [-3.31485032e-01],\n",
       "       [-5.17456027e-01],\n",
       "       [-7.47268869e-01],\n",
       "       [-3.59625380e-01],\n",
       "       [-6.23084290e-01],\n",
       "       [-2.53181455e-01],\n",
       "       [-1.72838722e-01],\n",
       "       [-6.57830502e-02],\n",
       "       [ 8.55222991e-02],\n",
       "       [-3.64723269e-01],\n",
       "       [-4.84217790e-01],\n",
       "       [ 2.16967273e-02],\n",
       "       [-4.70147616e-01],\n",
       "       [-3.84910910e-01],\n",
       "       [ 6.57424893e-02],\n",
       "       [ 2.14241860e+00],\n",
       "       [-1.72838722e-01],\n",
       "       [-9.61664694e-02],\n",
       "       [-9.12724958e-02],\n",
       "       [-1.64274268e-01],\n",
       "       [ 1.09306911e+00],\n",
       "       [-6.57830502e-02],\n",
       "       [-5.80342587e-02],\n",
       "       [ 8.89357457e-01],\n",
       "       [ 1.68789081e+00],\n",
       "       [ 6.25694631e-01],\n",
       "       [-9.63703850e-02],\n",
       "       [-1.47349276e-01],\n",
       "       [-2.08116115e-01],\n",
       "       [-4.38744619e-01],\n",
       "       [ 1.05921912e+00],\n",
       "       [ 2.09502963e-01],\n",
       "       [-1.95747830e-03],\n",
       "       [-5.72105398e-01],\n",
       "       [-4.61990993e-01],\n",
       "       [-5.92496955e-01],\n",
       "       [ 7.95352381e-01],\n",
       "       [-3.97757590e-01],\n",
       "       [-3.64927184e-01],\n",
       "       [-3.35767258e-01],\n",
       "       [-5.84952079e-01],\n",
       "       [-4.47105157e-01],\n",
       "       [ 3.14846744e-02],\n",
       "       [-3.53100081e-01],\n",
       "       [-1.20840253e-01],\n",
       "       [-5.64356607e-01],\n",
       "       [-4.98287964e-01],\n",
       "       [ 1.07545180e-01],\n",
       "       [ 1.17944874e-01],\n",
       "       [ 1.84013517e-01],\n",
       "       [-2.14437497e-01],\n",
       "       [-3.85726572e-01],\n",
       "       [-4.19780471e-01],\n",
       "       [ 6.16722346e-01],\n",
       "       [-2.64804642e-01],\n",
       "       [-2.15864906e-01],\n",
       "       [-5.38255415e-01],\n",
       "       [-2.66232051e-01],\n",
       "       [-3.89397052e-01],\n",
       "       [ 5.22840620e-02],\n",
       "       [ 7.71617610e-02],\n",
       "       [-4.60971415e-01],\n",
       "       [-4.59340091e-01],\n",
       "       [-2.79282647e-01],\n",
       "       [-4.88092186e-01],\n",
       "       [ 7.63460987e-02],\n",
       "       [ 2.06064846e+00],\n",
       "       [-3.96738012e-01],\n",
       "       [-7.40743571e-01],\n",
       "       [ 5.69821766e-01],\n",
       "       [-5.40090655e-01],\n",
       "       [-5.25000903e-01],\n",
       "       [-5.16232534e-01],\n",
       "       [ 2.77406846e-01],\n",
       "       [-4.67496714e-01],\n",
       "       [-9.63703850e-02],\n",
       "       [-1.96085096e-01],\n",
       "       [-1.87316727e-01],\n",
       "       [-2.64192895e-01],\n",
       "       [-4.62194909e-01],\n",
       "       [-5.50286433e-01],\n",
       "       [-3.30261538e-01],\n",
       "       [ 3.96412970e-02],\n",
       "       [ 1.05921912e+00],\n",
       "       [-1.75897455e-01],\n",
       "       [-3.83483501e-01],\n",
       "       [-3.18842267e-01],\n",
       "       [-1.92210701e-01],\n",
       "       [-1.58564632e-01],\n",
       "       [-1.62235112e-01],\n",
       "       [-2.21574542e-01],\n",
       "       [-3.97145844e-01],\n",
       "       [-1.98328168e-01],\n",
       "       [-3.00285950e-01],\n",
       "       [-3.66762424e-01],\n",
       "       [-6.02692733e-01],\n",
       "       [-4.10604271e-01],\n",
       "       [-3.71860313e-01],\n",
       "       [-2.83157043e-01],\n",
       "       [ 2.86183272e+00],\n",
       "       [-3.69209411e-01],\n",
       "       [-2.50122721e-01],\n",
       "       [-1.97920336e-01],\n",
       "       [-1.94045941e-01],\n",
       "       [ 2.09502963e-01],\n",
       "       [-2.64600726e-01],\n",
       "       [-6.46534580e-01],\n",
       "       [-3.00285950e-01],\n",
       "       [ 4.07655774e+00],\n",
       "       [ 1.75652979e-01],\n",
       "       [-2.66232051e-01],\n",
       "       [-4.14478667e-01],\n",
       "       [ 3.45514645e-01],\n",
       "       [ 1.96452367e-01],\n",
       "       [-2.38907365e-01],\n",
       "       [ 4.96766876e+00],\n",
       "       [-5.38255415e-01],\n",
       "       [ 3.96412970e-02],\n",
       "       [ 1.47716547e-01],\n",
       "       [ 8.55303558e-01],\n",
       "       [ 1.05921912e+00],\n",
       "       [ 8.04324666e-01],\n",
       "       [-5.40090655e-01],\n",
       "       [-5.77815034e-01],\n",
       "       [ 3.61747324e-02],\n",
       "       [ 7.19291876e-01],\n",
       "       [-2.32178151e-01],\n",
       "       [-3.34339849e-01],\n",
       "       [-3.12928715e-01],\n",
       "       [-5.22961747e-01],\n",
       "       [-6.14519836e-01],\n",
       "       [-4.36297632e-01],\n",
       "       [ 3.41028502e-01],\n",
       "       [-2.03426057e-01],\n",
       "       [-2.19535386e-01],\n",
       "       [-1.39804400e-01],\n",
       "       [ 5.49430210e-01],\n",
       "       [ 3.04731532e-01],\n",
       "       [ 2.07614605e+00],\n",
       "       [-8.63704657e-01],\n",
       "       [-4.49756059e-01],\n",
       "       [-4.22635289e-01],\n",
       "       [ 5.49430210e-01],\n",
       "       [-1.93026363e-01],\n",
       "       [ 4.11787203e-01],\n",
       "       [-2.23817613e-01],\n",
       "       [ 1.03670784e-01],\n",
       "       [-4.97472302e-01],\n",
       "       [-5.58646971e-01],\n",
       "       [ 3.96412970e-02],\n",
       "       [-2.11786595e-01],\n",
       "       [ 6.22635898e-01],\n",
       "       [-1.06566163e-01],\n",
       "       [-6.33280068e-01],\n",
       "       [-7.66711412e-03],\n",
       "       [-3.51264841e-01],\n",
       "       [-4.36093716e-01],\n",
       "       [-6.44087593e-01],\n",
       "       [-2.86623607e-01],\n",
       "       [ 2.28271251e+00],\n",
       "       [ 1.07545180e-01],\n",
       "       [-3.93679279e-01],\n",
       "       [-4.49756059e-01],\n",
       "       [ 4.80018352e-02],\n",
       "       [ 4.38907974e-01],\n",
       "       [-2.66232051e-01],\n",
       "       [ 1.43434320e-01],\n",
       "       [ 9.97840538e-01],\n",
       "       [-2.41558267e-01],\n",
       "       [-1.96981325e-02],\n",
       "       [-6.70800532e-01],\n",
       "       [-4.90539172e-01],\n",
       "       [-3.65131100e-01],\n",
       "       [-5.12562053e-01],\n",
       "       [-4.98695795e-01],\n",
       "       [-9.63703850e-02],\n",
       "       [-4.45066001e-01],\n",
       "       [-1.69983904e-01],\n",
       "       [-2.61745908e-01],\n",
       "       [-2.15333726e-02],\n",
       "       [ 4.18516417e-01],\n",
       "       [ 7.19495791e-01],\n",
       "       [-2.88458847e-01],\n",
       "       [-3.95106688e-01],\n",
       "       [-2.82953127e-01],\n",
       "       [-4.70147616e-01],\n",
       "       [ 7.87399674e-01],\n",
       "       [-5.14397293e-01],\n",
       "       [ 2.06240314e-01],\n",
       "       [ 6.39072492e-02],\n",
       "       [ 1.04078616e-01],\n",
       "       [ 5.70433513e-01],\n",
       "       [-2.06892621e-01],\n",
       "       [-4.70147616e-01],\n",
       "       [-3.41272979e-01],\n",
       "       [-1.64274268e-01],\n",
       "       [ 7.63541553e-01],\n",
       "       [-5.17252111e-01],\n",
       "       [-1.62439028e-01],\n",
       "       [-1.32055609e-01],\n",
       "       [-3.17210942e-01],\n",
       "       [ 3.96412970e-02],\n",
       "       [ 8.96086671e-01]])"
      ]
     },
     "execution_count": 78,
     "metadata": {},
     "output_type": "execute_result"
    }
   ],
   "source": [
    "ss.transform(dataset1[[\"Applicant_Income\"]])"
   ]
  },
  {
   "cell_type": "code",
   "execution_count": 88,
   "id": "f3f8a704",
   "metadata": {},
   "outputs": [
    {
     "data": {
      "text/html": [
       "<div>\n",
       "<style scoped>\n",
       "    .dataframe tbody tr th:only-of-type {\n",
       "        vertical-align: middle;\n",
       "    }\n",
       "\n",
       "    .dataframe tbody tr th {\n",
       "        vertical-align: top;\n",
       "    }\n",
       "\n",
       "    .dataframe thead th {\n",
       "        text-align: right;\n",
       "    }\n",
       "</style>\n",
       "<table border=\"1\" class=\"dataframe\">\n",
       "  <thead>\n",
       "    <tr style=\"text-align: right;\">\n",
       "      <th></th>\n",
       "      <th>Gender</th>\n",
       "      <th>Married</th>\n",
       "      <th>Dependents</th>\n",
       "      <th>Education</th>\n",
       "      <th>Self_Employed</th>\n",
       "      <th>Applicant_Income</th>\n",
       "      <th>Coapplicant_Income</th>\n",
       "      <th>Loan_Amount</th>\n",
       "      <th>Term</th>\n",
       "      <th>Credit_History</th>\n",
       "      <th>Area</th>\n",
       "      <th>Applicant_Income_ss</th>\n",
       "    </tr>\n",
       "  </thead>\n",
       "  <tbody>\n",
       "    <tr>\n",
       "      <th>0</th>\n",
       "      <td>Male</td>\n",
       "      <td>Yes</td>\n",
       "      <td>0</td>\n",
       "      <td>Graduate</td>\n",
       "      <td>No</td>\n",
       "      <td>572000</td>\n",
       "      <td>0</td>\n",
       "      <td>11000000</td>\n",
       "      <td>360.0</td>\n",
       "      <td>1.0</td>\n",
       "      <td>Urban</td>\n",
       "      <td>0.186461</td>\n",
       "    </tr>\n",
       "    <tr>\n",
       "      <th>1</th>\n",
       "      <td>Male</td>\n",
       "      <td>Yes</td>\n",
       "      <td>1</td>\n",
       "      <td>Graduate</td>\n",
       "      <td>No</td>\n",
       "      <td>307600</td>\n",
       "      <td>150000</td>\n",
       "      <td>12600000</td>\n",
       "      <td>360.0</td>\n",
       "      <td>1.0</td>\n",
       "      <td>Urban</td>\n",
       "      <td>-0.352692</td>\n",
       "    </tr>\n",
       "    <tr>\n",
       "      <th>2</th>\n",
       "      <td>Male</td>\n",
       "      <td>Yes</td>\n",
       "      <td>2</td>\n",
       "      <td>Graduate</td>\n",
       "      <td>No</td>\n",
       "      <td>500000</td>\n",
       "      <td>180000</td>\n",
       "      <td>20800000</td>\n",
       "      <td>360.0</td>\n",
       "      <td>1.0</td>\n",
       "      <td>Urban</td>\n",
       "      <td>0.039641</td>\n",
       "    </tr>\n",
       "    <tr>\n",
       "      <th>3</th>\n",
       "      <td>Male</td>\n",
       "      <td>Yes</td>\n",
       "      <td>2</td>\n",
       "      <td>Graduate</td>\n",
       "      <td>No</td>\n",
       "      <td>234000</td>\n",
       "      <td>254600</td>\n",
       "      <td>10000000</td>\n",
       "      <td>360.0</td>\n",
       "      <td>NaN</td>\n",
       "      <td>Urban</td>\n",
       "      <td>-0.502774</td>\n",
       "    </tr>\n",
       "    <tr>\n",
       "      <th>4</th>\n",
       "      <td>Male</td>\n",
       "      <td>No</td>\n",
       "      <td>0</td>\n",
       "      <td>Not Graduate</td>\n",
       "      <td>No</td>\n",
       "      <td>327600</td>\n",
       "      <td>0</td>\n",
       "      <td>7800000</td>\n",
       "      <td>360.0</td>\n",
       "      <td>1.0</td>\n",
       "      <td>Urban</td>\n",
       "      <td>-0.311909</td>\n",
       "    </tr>\n",
       "    <tr>\n",
       "      <th>5</th>\n",
       "      <td>Male</td>\n",
       "      <td>Yes</td>\n",
       "      <td>0</td>\n",
       "      <td>Not Graduate</td>\n",
       "      <td>Yes</td>\n",
       "      <td>216500</td>\n",
       "      <td>342200</td>\n",
       "      <td>15200000</td>\n",
       "      <td>360.0</td>\n",
       "      <td>1.0</td>\n",
       "      <td>Urban</td>\n",
       "      <td>-0.538459</td>\n",
       "    </tr>\n",
       "    <tr>\n",
       "      <th>6</th>\n",
       "      <td>Female</td>\n",
       "      <td>No</td>\n",
       "      <td>1</td>\n",
       "      <td>Not Graduate</td>\n",
       "      <td>No</td>\n",
       "      <td>222600</td>\n",
       "      <td>0</td>\n",
       "      <td>5900000</td>\n",
       "      <td>360.0</td>\n",
       "      <td>1.0</td>\n",
       "      <td>Semiurban</td>\n",
       "      <td>-0.526020</td>\n",
       "    </tr>\n",
       "    <tr>\n",
       "      <th>7</th>\n",
       "      <td>Male</td>\n",
       "      <td>Yes</td>\n",
       "      <td>2</td>\n",
       "      <td>Not Graduate</td>\n",
       "      <td>No</td>\n",
       "      <td>388100</td>\n",
       "      <td>0</td>\n",
       "      <td>14700000</td>\n",
       "      <td>360.0</td>\n",
       "      <td>0.0</td>\n",
       "      <td>Rural</td>\n",
       "      <td>-0.188540</td>\n",
       "    </tr>\n",
       "    <tr>\n",
       "      <th>8</th>\n",
       "      <td>Male</td>\n",
       "      <td>Yes</td>\n",
       "      <td>2</td>\n",
       "      <td>Graduate</td>\n",
       "      <td>NaN</td>\n",
       "      <td>1363300</td>\n",
       "      <td>0</td>\n",
       "      <td>28000000</td>\n",
       "      <td>240.0</td>\n",
       "      <td>1.0</td>\n",
       "      <td>Urban</td>\n",
       "      <td>1.800044</td>\n",
       "    </tr>\n",
       "    <tr>\n",
       "      <th>9</th>\n",
       "      <td>Male</td>\n",
       "      <td>No</td>\n",
       "      <td>0</td>\n",
       "      <td>Not Graduate</td>\n",
       "      <td>No</td>\n",
       "      <td>240000</td>\n",
       "      <td>240000</td>\n",
       "      <td>12300000</td>\n",
       "      <td>360.0</td>\n",
       "      <td>1.0</td>\n",
       "      <td>Semiurban</td>\n",
       "      <td>-0.490539</td>\n",
       "    </tr>\n",
       "  </tbody>\n",
       "</table>\n",
       "</div>"
      ],
      "text/plain": [
       "   Gender Married Dependents     Education Self_Employed  Applicant_Income  \\\n",
       "0    Male     Yes          0      Graduate            No            572000   \n",
       "1    Male     Yes          1      Graduate            No            307600   \n",
       "2    Male     Yes          2      Graduate            No            500000   \n",
       "3    Male     Yes          2      Graduate            No            234000   \n",
       "4    Male      No          0  Not Graduate            No            327600   \n",
       "5    Male     Yes          0  Not Graduate           Yes            216500   \n",
       "6  Female      No          1  Not Graduate            No            222600   \n",
       "7    Male     Yes          2  Not Graduate            No            388100   \n",
       "8    Male     Yes          2      Graduate           NaN           1363300   \n",
       "9    Male      No          0  Not Graduate            No            240000   \n",
       "\n",
       "   Coapplicant_Income  Loan_Amount   Term  Credit_History       Area  \\\n",
       "0                   0     11000000  360.0             1.0      Urban   \n",
       "1              150000     12600000  360.0             1.0      Urban   \n",
       "2              180000     20800000  360.0             1.0      Urban   \n",
       "3              254600     10000000  360.0             NaN      Urban   \n",
       "4                   0      7800000  360.0             1.0      Urban   \n",
       "5              342200     15200000  360.0             1.0      Urban   \n",
       "6                   0      5900000  360.0             1.0  Semiurban   \n",
       "7                   0     14700000  360.0             0.0      Rural   \n",
       "8                   0     28000000  240.0             1.0      Urban   \n",
       "9              240000     12300000  360.0             1.0  Semiurban   \n",
       "\n",
       "   Applicant_Income_ss  \n",
       "0             0.186461  \n",
       "1            -0.352692  \n",
       "2             0.039641  \n",
       "3            -0.502774  \n",
       "4            -0.311909  \n",
       "5            -0.538459  \n",
       "6            -0.526020  \n",
       "7            -0.188540  \n",
       "8             1.800044  \n",
       "9            -0.490539  "
      ]
     },
     "execution_count": 88,
     "metadata": {},
     "output_type": "execute_result"
    }
   ],
   "source": [
    " dataset1['Applicant_Income_ss'] = ss.fit_transform(dataset1[['Applicant_Income']])\n",
    "dataset1.head(10)"
   ]
  },
  {
   "cell_type": "code",
   "execution_count": 84,
   "id": "8828b87b",
   "metadata": {},
   "outputs": [
    {
     "data": {
      "text/plain": [
       "<seaborn.axisgrid.FacetGrid at 0x20b5eb61490>"
      ]
     },
     "execution_count": 84,
     "metadata": {},
     "output_type": "execute_result"
    },
    {
     "data": {
      "image/png": "[encoded data removed]",
      "text/plain": [
       "<Figure size 432x288 with 1 Axes>"
      ]
     },
     "metadata": {
      "needs_background": "light"
     },
     "output_type": "display_data"
    },
    {
     "data": {
      "image/png": "[encoded data removed]",
      "text/plain": [
       "<Figure size 360x360 with 1 Axes>"
      ]
     },
     "metadata": {
      "needs_background": "light"
     },
     "output_type": "display_data"
    }
   ],
   "source": [
    "plt.subplot(1,2,1)\n",
    "plt.title(\"Before\")\n",
    "sns.displot(dataset1[\"Applicant_Income_ss\"])"
   ]
  },
  {
   "cell_type": "code",
   "execution_count": 87,
   "id": "9504a0cc",
   "metadata": {},
   "outputs": [
    {
     "data": {
      "image/png": "[encoded data removed]",
      "text/plain": [
       "<Figure size 432x288 with 1 Axes>"
      ]
     },
     "metadata": {
      "needs_background": "light"
     },
     "output_type": "display_data"
    },
    {
     "data": {
      "image/png": "[encoded data removed]",
      "text/plain": [
       "<Figure size 360x360 with 1 Axes>"
      ]
     },
     "metadata": {
      "needs_background": "light"
     },
     "output_type": "display_data"
    }
   ],
   "source": [
    "plt.subplot(1,2,2)\n",
    "plt.title(\"After\")\n",
    "sns.displot(dataset1[\"Applicant_Income\"])\n",
    "plt.show()"
   ]
  },
  {
   "cell_type": "markdown",
   "id": "d0c73f06",
   "metadata": {},
   "source": [
    "# Handle Duplicate Data"
   ]
  },
  {
   "cell_type": "code",
   "execution_count": 89,
   "id": "ce09fa41",
   "metadata": {},
   "outputs": [],
   "source": [
    "import pandas as pd "
   ]
  },
  {
   "cell_type": "code",
   "execution_count": 90,
   "id": "8fbad863",
   "metadata": {},
   "outputs": [],
   "source": [
    "data={\"name\":[\"a\",\"b\",\"c\",\"d\",\"a\",\"c\"],\"eng\":[8,7,5,8,8,5],\"hindi\":[2,3,4,5,2,6]}"
   ]
  },
  {
   "cell_type": "code",
   "execution_count": 94,
   "id": "06fe4445",
   "metadata": {},
   "outputs": [
    {
     "data": {
      "text/html": [
       "<div>\n",
       "<style scoped>\n",
       "    .dataframe tbody tr th:only-of-type {\n",
       "        vertical-align: middle;\n",
       "    }\n",
       "\n",
       "    .dataframe tbody tr th {\n",
       "        vertical-align: top;\n",
       "    }\n",
       "\n",
       "    .dataframe thead th {\n",
       "        text-align: right;\n",
       "    }\n",
       "</style>\n",
       "<table border=\"1\" class=\"dataframe\">\n",
       "  <thead>\n",
       "    <tr style=\"text-align: right;\">\n",
       "      <th></th>\n",
       "      <th>name</th>\n",
       "      <th>eng</th>\n",
       "      <th>hindi</th>\n",
       "    </tr>\n",
       "  </thead>\n",
       "  <tbody>\n",
       "    <tr>\n",
       "      <th>0</th>\n",
       "      <td>a</td>\n",
       "      <td>8</td>\n",
       "      <td>2</td>\n",
       "    </tr>\n",
       "    <tr>\n",
       "      <th>1</th>\n",
       "      <td>b</td>\n",
       "      <td>7</td>\n",
       "      <td>3</td>\n",
       "    </tr>\n",
       "    <tr>\n",
       "      <th>2</th>\n",
       "      <td>c</td>\n",
       "      <td>5</td>\n",
       "      <td>4</td>\n",
       "    </tr>\n",
       "    <tr>\n",
       "      <th>3</th>\n",
       "      <td>d</td>\n",
       "      <td>8</td>\n",
       "      <td>5</td>\n",
       "    </tr>\n",
       "    <tr>\n",
       "      <th>4</th>\n",
       "      <td>a</td>\n",
       "      <td>8</td>\n",
       "      <td>2</td>\n",
       "    </tr>\n",
       "    <tr>\n",
       "      <th>5</th>\n",
       "      <td>c</td>\n",
       "      <td>5</td>\n",
       "      <td>6</td>\n",
       "    </tr>\n",
       "  </tbody>\n",
       "</table>\n",
       "</div>"
      ],
      "text/plain": [
       "  name  eng  hindi\n",
       "0    a    8      2\n",
       "1    b    7      3\n",
       "2    c    5      4\n",
       "3    d    8      5\n",
       "4    a    8      2\n",
       "5    c    5      6"
      ]
     },
     "execution_count": 94,
     "metadata": {},
     "output_type": "execute_result"
    }
   ],
   "source": [
    "df = pd.DataFrame(data)\n",
    "df"
   ]
  },
  {
   "cell_type": "code",
   "execution_count": 100,
   "id": "3ff3cd24",
   "metadata": {},
   "outputs": [
    {
     "data": {
      "text/html": [
       "<div>\n",
       "<style scoped>\n",
       "    .dataframe tbody tr th:only-of-type {\n",
       "        vertical-align: middle;\n",
       "    }\n",
       "\n",
       "    .dataframe tbody tr th {\n",
       "        vertical-align: top;\n",
       "    }\n",
       "\n",
       "    .dataframe thead th {\n",
       "        text-align: right;\n",
       "    }\n",
       "</style>\n",
       "<table border=\"1\" class=\"dataframe\">\n",
       "  <thead>\n",
       "    <tr style=\"text-align: right;\">\n",
       "      <th></th>\n",
       "      <th>name</th>\n",
       "      <th>eng</th>\n",
       "      <th>hindi</th>\n",
       "      <th>duplicated</th>\n",
       "    </tr>\n",
       "  </thead>\n",
       "  <tbody>\n",
       "    <tr>\n",
       "      <th>0</th>\n",
       "      <td>a</td>\n",
       "      <td>8</td>\n",
       "      <td>2</td>\n",
       "      <td>False</td>\n",
       "    </tr>\n",
       "    <tr>\n",
       "      <th>1</th>\n",
       "      <td>b</td>\n",
       "      <td>7</td>\n",
       "      <td>3</td>\n",
       "      <td>False</td>\n",
       "    </tr>\n",
       "    <tr>\n",
       "      <th>2</th>\n",
       "      <td>c</td>\n",
       "      <td>5</td>\n",
       "      <td>4</td>\n",
       "      <td>False</td>\n",
       "    </tr>\n",
       "    <tr>\n",
       "      <th>3</th>\n",
       "      <td>d</td>\n",
       "      <td>8</td>\n",
       "      <td>5</td>\n",
       "      <td>False</td>\n",
       "    </tr>\n",
       "    <tr>\n",
       "      <th>4</th>\n",
       "      <td>a</td>\n",
       "      <td>8</td>\n",
       "      <td>2</td>\n",
       "      <td>True</td>\n",
       "    </tr>\n",
       "    <tr>\n",
       "      <th>5</th>\n",
       "      <td>c</td>\n",
       "      <td>5</td>\n",
       "      <td>6</td>\n",
       "      <td>False</td>\n",
       "    </tr>\n",
       "  </tbody>\n",
       "</table>\n",
       "</div>"
      ],
      "text/plain": [
       "  name  eng  hindi  duplicated\n",
       "0    a    8      2       False\n",
       "1    b    7      3       False\n",
       "2    c    5      4       False\n",
       "3    d    8      5       False\n",
       "4    a    8      2        True\n",
       "5    c    5      6       False"
      ]
     },
     "execution_count": 100,
     "metadata": {},
     "output_type": "execute_result"
    }
   ],
   "source": [
    "df[\"duplicated\"] = df.duplicated()\n",
    "df"
   ]
  },
  {
   "cell_type": "code",
   "execution_count": 109,
   "id": "6c61d2e3",
   "metadata": {},
   "outputs": [
    {
     "data": {
      "text/plain": [
       "<bound method DataFrame.drop_duplicates of   name  eng  hindi  duplicated\n",
       "0    a    8      2       False\n",
       "1    b    7      3       False\n",
       "2    c    5      4       False\n",
       "3    d    8      5       False\n",
       "4    a    8      2        True\n",
       "5    c    5      6       False>"
      ]
     },
     "execution_count": 109,
     "metadata": {},
     "output_type": "execute_result"
    }
   ],
   "source": [
    "df.drop_duplicates"
   ]
  },
  {
   "cell_type": "code",
   "execution_count": 106,
   "id": "23eb21ca",
   "metadata": {},
   "outputs": [
    {
     "data": {
      "text/html": [
       "<div>\n",
       "<style scoped>\n",
       "    .dataframe tbody tr th:only-of-type {\n",
       "        vertical-align: middle;\n",
       "    }\n",
       "\n",
       "    .dataframe tbody tr th {\n",
       "        vertical-align: top;\n",
       "    }\n",
       "\n",
       "    .dataframe thead th {\n",
       "        text-align: right;\n",
       "    }\n",
       "</style>\n",
       "<table border=\"1\" class=\"dataframe\">\n",
       "  <thead>\n",
       "    <tr style=\"text-align: right;\">\n",
       "      <th></th>\n",
       "      <th>name</th>\n",
       "      <th>eng</th>\n",
       "      <th>hindi</th>\n",
       "      <th>duplicated</th>\n",
       "    </tr>\n",
       "  </thead>\n",
       "  <tbody>\n",
       "    <tr>\n",
       "      <th>0</th>\n",
       "      <td>a</td>\n",
       "      <td>8</td>\n",
       "      <td>2</td>\n",
       "      <td>False</td>\n",
       "    </tr>\n",
       "    <tr>\n",
       "      <th>1</th>\n",
       "      <td>b</td>\n",
       "      <td>7</td>\n",
       "      <td>3</td>\n",
       "      <td>False</td>\n",
       "    </tr>\n",
       "    <tr>\n",
       "      <th>2</th>\n",
       "      <td>c</td>\n",
       "      <td>5</td>\n",
       "      <td>4</td>\n",
       "      <td>False</td>\n",
       "    </tr>\n",
       "    <tr>\n",
       "      <th>3</th>\n",
       "      <td>d</td>\n",
       "      <td>8</td>\n",
       "      <td>5</td>\n",
       "      <td>False</td>\n",
       "    </tr>\n",
       "    <tr>\n",
       "      <th>4</th>\n",
       "      <td>a</td>\n",
       "      <td>8</td>\n",
       "      <td>2</td>\n",
       "      <td>True</td>\n",
       "    </tr>\n",
       "    <tr>\n",
       "      <th>5</th>\n",
       "      <td>c</td>\n",
       "      <td>5</td>\n",
       "      <td>6</td>\n",
       "      <td>False</td>\n",
       "    </tr>\n",
       "  </tbody>\n",
       "</table>\n",
       "</div>"
      ],
      "text/plain": [
       "  name  eng  hindi  duplicated\n",
       "0    a    8      2       False\n",
       "1    b    7      3       False\n",
       "2    c    5      4       False\n",
       "3    d    8      5       False\n",
       "4    a    8      2        True\n",
       "5    c    5      6       False"
      ]
     },
     "execution_count": 106,
     "metadata": {},
     "output_type": "execute_result"
    }
   ],
   "source": [
    "df.drop_duplicates(inplace=True)\n",
    "df"
   ]
  },
  {
   "cell_type": "code",
   "execution_count": 110,
   "id": "5aa1611f",
   "metadata": {},
   "outputs": [
    {
     "name": "stdout",
     "output_type": "stream",
     "text": [
      "Original DataFrame:\n",
      "   col1  col2  col3  is_duplicated\n",
      "0     1     3     7          False\n",
      "1     2     4     8          False\n",
      "2     2     4     8           True\n",
      "3     3     5     9          False\n",
      "4     3     5     9           True\n",
      "5     3     6    10          False\n",
      "\n",
      "DataFrame with duplicates removed:\n",
      "   col1  col2  col3\n",
      "0     1     3     7\n",
      "1     2     4     8\n",
      "3     3     5     9\n",
      "5     3     6    10\n",
      "\n",
      "DataFrame keeping the first occurrence of duplicates:\n",
      "   col1  col2  col3\n",
      "0     1     3     7\n",
      "1     2     4     8\n",
      "3     3     5     9\n",
      "5     3     6    10\n",
      "\n",
      "DataFrame keeping the last occurrence of duplicates:\n",
      "   col1  col2  col3\n",
      "0     1     3     7\n",
      "2     2     4     8\n",
      "4     3     5     9\n",
      "5     3     6    10\n",
      "\n",
      "DataFrame with a new column marking duplicates:\n",
      "   col1  col2  col3  is_duplicated\n",
      "0     1     3     7          False\n",
      "1     2     4     8          False\n",
      "2     2     4     8           True\n",
      "3     3     5     9          False\n",
      "4     3     5     9           True\n",
      "5     3     6    10          False\n",
      "\n",
      "DataFrame with aggregated duplicates:\n",
      "   col1  col2  col3\n",
      "0     1     3     7\n",
      "1     2     4     8\n",
      "2     3     5     9\n",
      "3     3     6    10\n"
     ]
    }
   ],
   "source": [
    "import pandas as pd\n",
    "\n",
    "\n",
    "data = {'col1': [1, 2, 2, 3, 3, 3], 'col2': [3, 4, 4, 5, 5, 6], 'col3': [7, 8, 8, 9, 9, 10]}\n",
    "df = pd.DataFrame(data)\n",
    "\n",
    "\n",
    "df_no_duplicates = df.drop_duplicates()\n",
    "\n",
    "\n",
    "df_first_occurrence = df.drop_duplicates(keep='first')\n",
    "\n",
    "\n",
    "df_last_occurrence = df.drop_duplicates(keep='last')\n",
    "\n",
    "\n",
    "df['is_duplicated'] = df.duplicated()\n",
    "\n",
    "ws\n",
    "df_aggregated = df.groupby(['col1', 'col2']).agg({'col3': 'mean'}).reset_index()\n",
    "\n",
    "# Display DataFrames\n",
    "print(\"Original DataFrame:\")\n",
    "print(df)\n",
    "print(\"\\nDataFrame with duplicates removed:\")\n",
    "print(df_no_duplicates)\n",
    "print(\"\\nDataFrame keeping the first occurrence of duplicates:\")\n",
    "print(df_first_occurrence)\n",
    "print(\"\\nDataFrame keeping the last occurrence of duplicates:\")\n",
    "print(df_last_occurrence)\n",
    "print(\"\\nDataFrame with a new column marking duplicates:\")\n",
    "print(df)\n",
    "print(\"\\nDataFrame with aggregated duplicates:\")\n",
    "print(df_aggregated)\n"
   ]
  },
  {
   "cell_type": "code",
   "execution_count": null,
   "id": "2b1491a9",
   "metadata": {},
   "outputs": [],
   "source": []
  }
 ],
 "metadata": {
  "kernelspec": {
   "display_name": "Python 3",
   "language": "python",
   "name": "python3"
  },
  "language_info": {
   "codemirror_mode": {
    "name": "ipython",
    "version": 3
   },
   "file_extension": ".py",
   "mimetype": "text/x-python",
   "name": "python",
   "nbconvert_exporter": "python",
   "pygments_lexer": "ipython3",
   "version": "3.8.8"
  }
 },
 "nbformat": 4,
 "nbformat_minor": 5
}
