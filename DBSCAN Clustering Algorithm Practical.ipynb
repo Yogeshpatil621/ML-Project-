{
 "cells": [
  {
   "cell_type": "markdown",
   "id": "6c523162",
   "metadata": {},
   "source": [
    "# DBSCAN Clustering Algorithm Practical"
   ]
  },
  {
   "cell_type": "code",
   "execution_count": 1,
   "id": "97ca6512",
   "metadata": {},
   "outputs": [],
   "source": [
    "import matplotlib.pyplot as plt \n",
    "import seaborn as sns\n",
    "from sklearn.datasets import make_moons"
   ]
  },
  {
   "cell_type": "code",
   "execution_count": 2,
   "id": "a7364b0d",
   "metadata": {},
   "outputs": [],
   "source": [
    "x,y=make_moons(n_samples=250,noise=0.05)"
   ]
  },
  {
   "cell_type": "code",
   "execution_count": 4,
   "id": "3cb40b25",
   "metadata": {},
   "outputs": [
    {
     "data": {
      "text/plain": [
       "(array([[ 7.25600249e-01, -5.02948372e-01],\n",
       "        [ 1.38211541e+00, -3.57983899e-01],\n",
       "        [ 5.55347158e-01,  7.94443956e-01],\n",
       "        [-9.60297727e-01,  1.94822441e-01],\n",
       "        [ 1.23830446e+00, -5.69741404e-01],\n",
       "        [ 1.89993066e+00,  2.96181356e-01],\n",
       "        [ 1.97519023e+00,  1.74999127e-01],\n",
       "        [ 4.54139498e-01,  9.75532635e-01],\n",
       "        [ 1.95229179e+00,  2.30992670e-01],\n",
       "        [-4.20059769e-01,  9.70041485e-01],\n",
       "        [ 1.59468867e+00, -2.51589436e-01],\n",
       "        [-4.24260072e-01,  9.29714034e-01],\n",
       "        [-9.49435232e-01, -3.55354605e-02],\n",
       "        [ 3.72937563e-01, -3.08436774e-01],\n",
       "        [ 1.95036968e+00,  3.29071712e-01],\n",
       "        [ 1.57237424e+00, -3.02457103e-01],\n",
       "        [ 1.99366954e+00,  3.35052501e-01],\n",
       "        [-9.51082407e-01,  1.16359231e-01],\n",
       "        [ 8.53384067e-01,  2.40625229e-01],\n",
       "        [-7.42257079e-01,  4.93645013e-01],\n",
       "        [-6.64566285e-01,  7.49666877e-01],\n",
       "        [ 9.68181792e-01,  2.20221971e-01],\n",
       "        [-1.05545723e+00,  2.58255769e-01],\n",
       "        [ 3.85522011e-01, -3.33492099e-01],\n",
       "        [ 5.80798530e-01, -4.26154120e-01],\n",
       "        [-1.68189893e-01,  1.01943347e+00],\n",
       "        [ 6.40229062e-01, -3.96835380e-01],\n",
       "        [ 3.88593117e-01, -2.44301642e-01],\n",
       "        [ 1.43195778e-02,  2.19928432e-01],\n",
       "        [ 1.32664432e+00, -4.38323750e-01],\n",
       "        [-9.71296523e-01,  5.70957434e-02],\n",
       "        [ 9.99006299e-02,  1.06116977e-01],\n",
       "        [ 1.22119484e-01,  1.04002373e+00],\n",
       "        [-9.00893517e-01,  1.03889931e-01],\n",
       "        [ 2.87754136e-01, -2.83899980e-01],\n",
       "        [ 3.19189203e-02,  1.01486234e+00],\n",
       "        [-1.32387906e-01,  9.29470734e-01],\n",
       "        [ 4.09761007e-02,  1.77271163e-01],\n",
       "        [-5.16584447e-01,  8.94105677e-01],\n",
       "        [-6.13241191e-01,  8.80016662e-01],\n",
       "        [ 6.18496670e-01, -3.65378453e-01],\n",
       "        [-8.94284671e-01,  7.04945811e-01],\n",
       "        [-7.33964216e-01,  6.26291821e-01],\n",
       "        [ 1.39703561e-02,  3.20666341e-01],\n",
       "        [ 1.37684319e+00, -4.21580648e-01],\n",
       "        [ 4.25159715e-01,  1.02537178e+00],\n",
       "        [ 1.12143859e+00, -4.43891289e-01],\n",
       "        [-9.81330546e-01,  2.15854053e-02],\n",
       "        [ 7.66631278e-01,  5.87801093e-01],\n",
       "        [-8.66291303e-01,  2.84310003e-01],\n",
       "        [ 1.30106720e-01,  4.19306362e-01],\n",
       "        [ 1.15979917e+00, -4.77496160e-01],\n",
       "        [ 4.25224135e-01, -2.81471943e-01],\n",
       "        [ 8.31149597e-01,  5.19816466e-01],\n",
       "        [ 8.11348650e-01, -4.27711046e-01],\n",
       "        [-5.58094568e-01,  9.19487286e-01],\n",
       "        [ 8.07001972e-01,  5.55028427e-01],\n",
       "        [ 1.01996587e+00,  2.13220292e-01],\n",
       "        [-9.52773557e-01,  2.79352050e-01],\n",
       "        [ 1.90243664e+00,  3.85087931e-03],\n",
       "        [ 1.76395842e+00, -1.01893920e-01],\n",
       "        [ 1.95905928e+00,  4.30902631e-01],\n",
       "        [ 4.86154992e-01,  9.07631358e-01],\n",
       "        [ 1.26690207e+00, -4.11035470e-01],\n",
       "        [ 1.82094025e+00,  3.60843119e-04],\n",
       "        [ 1.98189874e+00,  3.65229795e-01],\n",
       "        [ 8.25486013e-01,  5.05199375e-01],\n",
       "        [-5.72178482e-02,  9.86904772e-01],\n",
       "        [ 1.06489809e+00,  1.70306932e-01],\n",
       "        [ 1.11585038e+00,  1.50263641e-02],\n",
       "        [-5.70877159e-01,  7.55893545e-01],\n",
       "        [ 5.47473872e-02,  3.40130501e-01],\n",
       "        [-9.02902164e-01,  5.13417415e-01],\n",
       "        [-4.16906886e-01,  8.85870765e-01],\n",
       "        [ 2.28978448e-01,  8.79459437e-01],\n",
       "        [-1.19664493e-02,  5.63598041e-01],\n",
       "        [ 6.11756894e-02,  3.84543511e-01],\n",
       "        [ 1.66038857e+00, -1.49675881e-01],\n",
       "        [ 8.37332021e-01,  5.74481260e-01],\n",
       "        [-8.93162639e-01,  2.88344271e-01],\n",
       "        [-8.69106433e-02,  9.31312343e-01],\n",
       "        [ 6.20080531e-01, -3.57750711e-01],\n",
       "        [ 3.30968425e-01,  9.57864420e-01],\n",
       "        [ 1.64997494e+00, -1.56763967e-01],\n",
       "        [ 1.88963166e+00,  1.57802445e-02],\n",
       "        [ 1.95968731e-01,  1.05266653e+00],\n",
       "        [ 7.19446587e-01,  7.11601894e-01],\n",
       "        [ 3.23949013e-01, -2.40946558e-01],\n",
       "        [ 6.17997400e-01, -3.89252671e-01],\n",
       "        [ 1.65726175e+00, -2.53248732e-01],\n",
       "        [ 1.99414854e+00,  2.17501301e-01],\n",
       "        [ 8.37884031e-01, -5.27151831e-01],\n",
       "        [-7.02384432e-01,  7.61570821e-01],\n",
       "        [ 7.98526540e-01,  6.82183961e-01],\n",
       "        [ 5.55155349e-02,  1.18805889e-01],\n",
       "        [ 9.56362397e-01, -5.74500800e-01],\n",
       "        [-9.56004560e-01,  2.19926905e-01],\n",
       "        [ 1.13579851e-01,  1.16865402e-01],\n",
       "        [ 1.70670389e+00, -1.72597777e-01],\n",
       "        [ 1.98230308e+00,  5.07207929e-01],\n",
       "        [ 1.87055739e+00,  1.89202476e-01],\n",
       "        [ 9.58257304e-01, -6.04109465e-01],\n",
       "        [ 1.49779135e+00, -3.59115230e-01],\n",
       "        [ 1.88433193e+00,  4.45250847e-01],\n",
       "        [ 1.59654626e+00, -2.58823174e-01],\n",
       "        [-9.63014772e-01,  5.51796706e-01],\n",
       "        [ 1.15085070e+00, -4.72048808e-01],\n",
       "        [ 1.37410842e+00, -4.76154697e-01],\n",
       "        [ 9.13124626e-01, -5.14778844e-01],\n",
       "        [-4.56342659e-01,  9.88905937e-01],\n",
       "        [-2.11648338e-01,  8.35323408e-01],\n",
       "        [-9.62893292e-01,  4.56413470e-01],\n",
       "        [ 8.80225902e-01,  4.77201225e-01],\n",
       "        [ 1.00251434e+00,  1.58361928e-01],\n",
       "        [ 1.10016936e-01,  7.79982706e-02],\n",
       "        [-1.12212825e+00,  1.73181848e-01],\n",
       "        [ 3.05841112e-01, -2.07303896e-01],\n",
       "        [ 6.07362345e-01,  7.99276791e-01],\n",
       "        [ 1.00011930e+00,  1.27864118e-01],\n",
       "        [-9.11117184e-01,  3.84591719e-01],\n",
       "        [-8.10113060e-01,  5.75361508e-01],\n",
       "        [ 1.86610779e+00, -8.64097765e-02],\n",
       "        [ 1.51554442e+00, -3.67152833e-01],\n",
       "        [ 1.65047685e-01, -2.03396335e-01],\n",
       "        [ 6.75571515e-01, -4.04055639e-01],\n",
       "        [ 8.39970238e-01,  5.39643661e-01],\n",
       "        [-5.77339297e-01,  8.06795433e-01],\n",
       "        [ 3.89078845e-01,  9.86550937e-01],\n",
       "        [ 2.88936568e-01, -1.52730229e-01],\n",
       "        [ 1.54733409e+00, -3.81414823e-01],\n",
       "        [-1.35935917e-01,  1.01980411e+00],\n",
       "        [-7.30333188e-01,  5.60040248e-01],\n",
       "        [ 8.21425676e-02,  3.31762696e-01],\n",
       "        [ 6.66810430e-01, -4.15606499e-01],\n",
       "        [ 1.20259423e+00, -4.28282075e-01],\n",
       "        [-6.80104610e-01,  7.68990531e-01],\n",
       "        [ 9.11425158e-01,  2.76747101e-01],\n",
       "        [ 1.57256123e+00, -4.28938984e-01],\n",
       "        [-5.05650270e-02,  3.67705249e-01],\n",
       "        [ 3.61048863e-01, -2.06400941e-01],\n",
       "        [ 4.48546007e-01,  8.82927650e-01],\n",
       "        [ 1.21041229e-01,  1.05034917e+00],\n",
       "        [ 9.49589092e-01, -4.92471290e-01],\n",
       "        [ 1.02277295e-01,  1.22742307e-01],\n",
       "        [ 8.92665199e-01,  4.07569426e-01],\n",
       "        [ 1.82568548e-01,  1.78017905e-01],\n",
       "        [ 7.65914610e-01, -4.85684355e-01],\n",
       "        [ 1.66709996e+00, -1.77116217e-01],\n",
       "        [ 6.56615570e-01,  7.46321851e-01],\n",
       "        [ 1.99918112e+00,  2.38371228e-01],\n",
       "        [-4.76788822e-01,  8.78666597e-01],\n",
       "        [ 2.81363845e-01, -1.80242228e-01],\n",
       "        [ 7.27085007e-01,  7.65745571e-01],\n",
       "        [ 1.02079049e+00,  4.24783631e-01],\n",
       "        [ 1.68160193e-01, -4.89982339e-02],\n",
       "        [ 8.91235222e-01,  5.35752100e-01],\n",
       "        [ 7.39551611e-01, -4.55585515e-01],\n",
       "        [ 1.34919093e-01, -1.49234149e-01],\n",
       "        [ 1.15369014e+00, -4.85145659e-01],\n",
       "        [ 1.28553592e+00, -4.62142284e-01],\n",
       "        [ 2.12615289e-02,  3.89032971e-01],\n",
       "        [-9.61643148e-01,  2.28627553e-01],\n",
       "        [-6.13121874e-01,  8.95868373e-01],\n",
       "        [ 6.57963643e-01,  7.74162307e-01],\n",
       "        [-4.06355372e-01,  8.92704668e-01],\n",
       "        [ 5.94789767e-02,  2.62693382e-01],\n",
       "        [ 7.23714651e-01,  6.28891056e-01],\n",
       "        [ 3.72978060e-02, -1.20006190e-02],\n",
       "        [ 5.68581011e-01, -3.34700125e-01],\n",
       "        [ 5.95954888e-01,  8.91981910e-01],\n",
       "        [ 6.45551497e-01, -4.11552191e-01],\n",
       "        [ 4.83943449e-01, -4.04483473e-01],\n",
       "        [ 1.51508982e+00, -3.22456476e-01],\n",
       "        [ 1.02693361e+00,  1.77792408e-01],\n",
       "        [-9.78525894e-01,  1.32467064e-01],\n",
       "        [ 9.44724932e-01, -5.47086863e-01],\n",
       "        [ 8.54418118e-01,  4.51336842e-01],\n",
       "        [ 1.28137351e+00, -5.14909112e-01],\n",
       "        [ 8.87010570e-01,  1.09616667e-01],\n",
       "        [ 4.02402909e-01,  9.56385811e-01],\n",
       "        [-3.99431195e-01,  1.03184975e+00],\n",
       "        [ 1.78055064e-01,  1.12255285e+00],\n",
       "        [ 6.78423340e-01, -4.31918448e-01],\n",
       "        [ 8.92827228e-02, -2.94737583e-02],\n",
       "        [ 8.55431860e-01,  3.07021653e-01],\n",
       "        [ 9.60562052e-01, -4.91838506e-01],\n",
       "        [ 1.96815590e+00,  1.89286542e-01],\n",
       "        [ 1.80268434e+00, -7.46419553e-02],\n",
       "        [ 1.91396124e-01, -1.60489908e-01],\n",
       "        [-1.04040368e-01,  1.00947996e+00],\n",
       "        [-6.25784945e-02,  3.57577058e-01],\n",
       "        [ 7.59002439e-01, -5.01252809e-01],\n",
       "        [-1.31470015e-01,  8.95321324e-01],\n",
       "        [-3.13510684e-01,  9.28841720e-01],\n",
       "        [ 1.65877952e+00, -2.63697204e-01],\n",
       "        [ 1.51284759e-01, -1.27658733e-02],\n",
       "        [ 1.04069076e+00, -5.60877868e-01],\n",
       "        [ 1.90719853e+00,  3.02829693e-02],\n",
       "        [-2.63195044e-02,  1.01270342e+00],\n",
       "        [ 2.06310166e+00,  5.14011668e-01],\n",
       "        [ 1.70414690e+00, -2.16209139e-01],\n",
       "        [ 4.01954592e-01,  9.42677517e-01],\n",
       "        [ 4.53666678e-01,  7.86576991e-01],\n",
       "        [-9.08349136e-01,  5.01469238e-01],\n",
       "        [ 1.98243873e+00,  4.91810302e-01],\n",
       "        [-8.58590291e-01,  5.17350755e-01],\n",
       "        [-6.16877841e-01,  7.26423444e-01],\n",
       "        [-9.45590878e-01,  4.65059633e-01],\n",
       "        [ 1.54620287e+00, -4.28088419e-01],\n",
       "        [ 1.46941908e+00, -3.33390128e-01],\n",
       "        [ 3.74898682e-01, -2.35996077e-01],\n",
       "        [ 1.51657997e-01,  9.36164412e-01],\n",
       "        [ 2.03428184e-01,  1.03379286e+00],\n",
       "        [ 1.12074905e+00, -5.13653100e-01],\n",
       "        [-7.49823837e-01,  6.91564492e-01],\n",
       "        [ 1.82527505e+00, -5.66474668e-02],\n",
       "        [-8.13808299e-01,  6.20957822e-01],\n",
       "        [ 8.28413634e-01,  6.74773151e-01],\n",
       "        [-1.04758270e+00,  3.04458872e-01],\n",
       "        [ 1.96241860e+00,  1.46488910e-01],\n",
       "        [ 2.02041472e+00,  2.87016968e-01],\n",
       "        [ 8.52711672e-01,  3.05338914e-01],\n",
       "        [ 4.69931370e-01, -3.11335263e-01],\n",
       "        [ 2.12916886e-02,  9.41466740e-01],\n",
       "        [ 1.88758750e-01, -2.95702712e-02],\n",
       "        [ 2.70581111e-01,  9.08631796e-01],\n",
       "        [ 1.98171237e+00,  2.35193630e-01],\n",
       "        [-7.89950781e-01,  6.60610780e-01],\n",
       "        [-7.59134994e-01,  4.74324810e-01],\n",
       "        [ 1.64713082e+00, -2.55180353e-01],\n",
       "        [-5.49488662e-01,  7.77458573e-01],\n",
       "        [ 1.98424667e-01,  9.37632981e-01],\n",
       "        [ 5.71456812e-01,  8.23542805e-01],\n",
       "        [ 8.76220989e-01,  4.20233640e-01],\n",
       "        [ 9.18800735e-01,  2.34906903e-01],\n",
       "        [ 5.96578823e-01,  7.81144300e-01],\n",
       "        [ 2.11345990e-01, -1.17991655e-01],\n",
       "        [-2.64565498e-01,  9.60524794e-01],\n",
       "        [ 1.80915666e+00, -2.06633253e-01],\n",
       "        [-1.46429770e-01,  9.06508747e-01],\n",
       "        [-2.15106350e-01,  9.45767662e-01],\n",
       "        [ 1.08885005e+00, -5.24098825e-01],\n",
       "        [ 7.21732003e-02,  9.37555498e-01],\n",
       "        [ 7.31207690e-01,  7.71312717e-01],\n",
       "        [ 7.16987020e-01,  6.27347990e-01],\n",
       "        [ 1.02019750e+00,  2.48674270e-02],\n",
       "        [ 9.54308559e-01,  1.02373797e-01],\n",
       "        [ 6.59790128e-02,  1.99376625e-01],\n",
       "        [-2.83421637e-02,  5.14210204e-01],\n",
       "        [ 2.86570329e-01,  9.26395586e-01]]),\n",
       " array([1, 1, 0, 0, 1, 1, 1, 0, 1, 0, 1, 0, 0, 1, 1, 1, 1, 0, 0, 0, 0, 0,\n",
       "        0, 1, 1, 0, 1, 1, 1, 1, 0, 1, 0, 0, 1, 0, 0, 1, 0, 0, 1, 0, 0, 1,\n",
       "        1, 0, 1, 0, 0, 0, 1, 1, 1, 0, 1, 0, 0, 0, 0, 1, 1, 1, 0, 1, 1, 1,\n",
       "        0, 0, 0, 0, 0, 1, 0, 0, 0, 1, 1, 1, 0, 0, 0, 1, 0, 1, 1, 0, 0, 1,\n",
       "        1, 1, 1, 1, 0, 0, 1, 1, 0, 1, 1, 1, 1, 1, 1, 1, 1, 0, 1, 1, 1, 0,\n",
       "        0, 0, 0, 0, 1, 0, 1, 0, 0, 0, 0, 1, 1, 1, 1, 0, 0, 0, 1, 1, 0, 0,\n",
       "        1, 1, 1, 0, 0, 1, 1, 1, 0, 0, 1, 1, 0, 1, 1, 1, 0, 1, 0, 1, 0, 0,\n",
       "        1, 0, 1, 1, 1, 1, 1, 0, 0, 0, 0, 1, 0, 1, 1, 0, 1, 1, 1, 0, 0, 1,\n",
       "        0, 1, 0, 0, 0, 0, 1, 1, 0, 1, 1, 1, 1, 0, 1, 1, 0, 0, 1, 1, 1, 1,\n",
       "        0, 1, 1, 0, 0, 0, 1, 0, 0, 0, 1, 1, 1, 0, 0, 1, 0, 1, 0, 0, 0, 1,\n",
       "        1, 0, 1, 0, 1, 0, 1, 0, 0, 1, 0, 0, 0, 0, 0, 0, 1, 0, 1, 0, 0, 1,\n",
       "        0, 0, 0, 0, 0, 1, 1, 0], dtype=int64))"
      ]
     },
     "execution_count": 4,
     "metadata": {},
     "output_type": "execute_result"
    }
   ],
   "source": [
    "x"
   ]
  },
  {
   "cell_type": "code",
   "execution_count": 5,
   "id": "6d1d6b5d",
   "metadata": {},
   "outputs": [
    {
     "data": {
      "text/plain": [
       "array([1, 1, 0, 0, 1, 1, 1, 0, 1, 0, 1, 0, 0, 1, 1, 1, 1, 0, 0, 0, 0, 0,\n",
       "       0, 1, 1, 0, 1, 1, 1, 1, 0, 1, 0, 0, 1, 0, 0, 1, 0, 0, 1, 0, 0, 1,\n",
       "       1, 0, 1, 0, 0, 0, 1, 1, 1, 0, 1, 0, 0, 0, 0, 1, 1, 1, 0, 1, 1, 1,\n",
       "       0, 0, 0, 0, 0, 1, 0, 0, 0, 1, 1, 1, 0, 0, 0, 1, 0, 1, 1, 0, 0, 1,\n",
       "       1, 1, 1, 1, 0, 0, 1, 1, 0, 1, 1, 1, 1, 1, 1, 1, 1, 0, 1, 1, 1, 0,\n",
       "       0, 0, 0, 0, 1, 0, 1, 0, 0, 0, 0, 1, 1, 1, 1, 0, 0, 0, 1, 1, 0, 0,\n",
       "       1, 1, 1, 0, 0, 1, 1, 1, 0, 0, 1, 1, 0, 1, 1, 1, 0, 1, 0, 1, 0, 0,\n",
       "       1, 0, 1, 1, 1, 1, 1, 0, 0, 0, 0, 1, 0, 1, 1, 0, 1, 1, 1, 0, 0, 1,\n",
       "       0, 1, 0, 0, 0, 0, 1, 1, 0, 1, 1, 1, 1, 0, 1, 1, 0, 0, 1, 1, 1, 1,\n",
       "       0, 1, 1, 0, 0, 0, 1, 0, 0, 0, 1, 1, 1, 0, 0, 1, 0, 1, 0, 0, 0, 1,\n",
       "       1, 0, 1, 0, 1, 0, 1, 0, 0, 1, 0, 0, 0, 0, 0, 0, 1, 0, 1, 0, 0, 1,\n",
       "       0, 0, 0, 0, 0, 1, 1, 0], dtype=int64)"
      ]
     },
     "execution_count": 5,
     "metadata": {},
     "output_type": "execute_result"
    }
   ],
   "source": [
    "y"
   ]
  },
  {
   "cell_type": "code",
   "execution_count": 6,
   "id": "4a9b52be",
   "metadata": {},
   "outputs": [],
   "source": [
    "import pandas as pd "
   ]
  },
  {
   "cell_type": "code",
   "execution_count": 7,
   "id": "e21bb85a",
   "metadata": {},
   "outputs": [],
   "source": [
    "df={\"data1\":x[:,0],\"data2\":x[:,1]}"
   ]
  },
  {
   "cell_type": "code",
   "execution_count": 8,
   "id": "a7704dc6",
   "metadata": {},
   "outputs": [],
   "source": [
    "dataset=pd.DataFrame(data=df)"
   ]
  },
  {
   "cell_type": "code",
   "execution_count": 11,
   "id": "60053767",
   "metadata": {},
   "outputs": [
    {
     "data": {
      "text/html": [
       "<div>\n",
       "<style scoped>\n",
       "    .dataframe tbody tr th:only-of-type {\n",
       "        vertical-align: middle;\n",
       "    }\n",
       "\n",
       "    .dataframe tbody tr th {\n",
       "        vertical-align: top;\n",
       "    }\n",
       "\n",
       "    .dataframe thead th {\n",
       "        text-align: right;\n",
       "    }\n",
       "</style>\n",
       "<table border=\"1\" class=\"dataframe\">\n",
       "  <thead>\n",
       "    <tr style=\"text-align: right;\">\n",
       "      <th></th>\n",
       "      <th>data1</th>\n",
       "      <th>data2</th>\n",
       "    </tr>\n",
       "  </thead>\n",
       "  <tbody>\n",
       "    <tr>\n",
       "      <th>0</th>\n",
       "      <td>0.725600</td>\n",
       "      <td>-0.502948</td>\n",
       "    </tr>\n",
       "    <tr>\n",
       "      <th>1</th>\n",
       "      <td>1.382115</td>\n",
       "      <td>-0.357984</td>\n",
       "    </tr>\n",
       "    <tr>\n",
       "      <th>2</th>\n",
       "      <td>0.555347</td>\n",
       "      <td>0.794444</td>\n",
       "    </tr>\n",
       "  </tbody>\n",
       "</table>\n",
       "</div>"
      ],
      "text/plain": [
       "      data1     data2\n",
       "0  0.725600 -0.502948\n",
       "1  1.382115 -0.357984\n",
       "2  0.555347  0.794444"
      ]
     },
     "execution_count": 11,
     "metadata": {},
     "output_type": "execute_result"
    }
   ],
   "source": [
    "dataset.head(3)"
   ]
  },
  {
   "cell_type": "code",
   "execution_count": 13,
   "id": "bc383e4e",
   "metadata": {},
   "outputs": [
    {
     "data": {
      "image/png": "[encoded data removed]",
      "text/plain": [
       "<Figure size 432x288 with 1 Axes>"
      ]
     },
     "metadata": {
      "needs_background": "light"
     },
     "output_type": "display_data"
    }
   ],
   "source": [
    "sns.scatterplot(x=\"data1\",y=\"data2\",data=dataset)\n",
    "plt.show()"
   ]
  },
  {
   "cell_type": "code",
   "execution_count": 14,
   "id": "137d4661",
   "metadata": {},
   "outputs": [],
   "source": [
    "from sklearn.cluster import DBSCAN"
   ]
  },
  {
   "cell_type": "code",
   "execution_count": 15,
   "id": "6ed87cd8",
   "metadata": {},
   "outputs": [],
   "source": [
    "dp=DBSCAN(eps=0.2,min_samples=5)"
   ]
  },
  {
   "cell_type": "code",
   "execution_count": 16,
   "id": "85e7dafe",
   "metadata": {},
   "outputs": [
    {
     "data": {
      "text/plain": [
       "array([0, 0, 1, 1, 0, 0, 0, 1, 0, 1, 0, 1, 1, 0, 0, 0, 0, 1, 1, 1, 1, 1,\n",
       "       1, 0, 0, 1, 0, 0, 0, 0, 1, 0, 1, 1, 0, 1, 1, 0, 1, 1, 0, 1, 1, 0,\n",
       "       0, 1, 0, 1, 1, 1, 0, 0, 0, 1, 0, 1, 1, 1, 1, 0, 0, 0, 1, 0, 0, 0,\n",
       "       1, 1, 1, 1, 1, 0, 1, 1, 1, 0, 0, 0, 1, 1, 1, 0, 1, 0, 0, 1, 1, 0,\n",
       "       0, 0, 0, 0, 1, 1, 0, 0, 1, 0, 0, 0, 0, 0, 0, 0, 0, 1, 0, 0, 0, 1,\n",
       "       1, 1, 1, 1, 0, 1, 0, 1, 1, 1, 1, 0, 0, 0, 0, 1, 1, 1, 0, 0, 1, 1,\n",
       "       0, 0, 0, 1, 1, 0, 0, 0, 1, 1, 0, 0, 1, 0, 0, 0, 1, 0, 1, 0, 1, 1,\n",
       "       0, 1, 0, 0, 0, 0, 0, 1, 1, 1, 1, 0, 1, 0, 0, 1, 0, 0, 0, 1, 1, 0,\n",
       "       1, 0, 1, 1, 1, 1, 0, 0, 1, 0, 0, 0, 0, 1, 0, 0, 1, 1, 0, 0, 0, 0,\n",
       "       1, 0, 0, 1, 1, 1, 0, 1, 1, 1, 0, 0, 0, 1, 1, 0, 1, 0, 1, 1, 1, 0,\n",
       "       0, 1, 0, 1, 0, 1, 0, 1, 1, 0, 1, 1, 1, 1, 1, 1, 0, 1, 0, 1, 1, 0,\n",
       "       1, 1, 1, 1, 1, 0, 0, 1], dtype=int64)"
      ]
     },
     "execution_count": 16,
     "metadata": {},
     "output_type": "execute_result"
    }
   ],
   "source": [
    "dp.fit_predict(dataset)"
   ]
  },
  {
   "cell_type": "code",
   "execution_count": 17,
   "id": "c7c69829",
   "metadata": {},
   "outputs": [],
   "source": [
    "dataset[\"predict\"]=dp.fit_predict(dataset)"
   ]
  },
  {
   "cell_type": "code",
   "execution_count": 18,
   "id": "8b8579f0",
   "metadata": {},
   "outputs": [
    {
     "data": {
      "image/png": "[encoded data removed]",
      "text/plain": [
       "<Figure size 432x288 with 1 Axes>"
      ]
     },
     "metadata": {
      "needs_background": "light"
     },
     "output_type": "display_data"
    }
   ],
   "source": [
    "sns.scatterplot(x=\"data1\",y=\"data2\",data=dataset,hue=\"predict\")\n",
    "plt.show()"
   ]
  },
  {
   "cell_type": "code",
   "execution_count": 19,
   "id": "d1a9f984",
   "metadata": {},
   "outputs": [
    {
     "data": {
      "image/png": "[encoded data removed]",
      "text/plain": [
       "<Figure size 432x288 with 1 Axes>"
      ]
     },
     "metadata": {
      "needs_background": "light"
     },
     "output_type": "display_data"
    }
   ],
   "source": [
    "sns.scatterplot(x=\"data1\",y=\"data2\",data=dataset)\n",
    "plt.show()"
   ]
  },
  {
   "cell_type": "code",
   "execution_count": null,
   "id": "868ddf43",
   "metadata": {},
   "outputs": [],
   "source": []
  }
 ],
 "metadata": {
  "kernelspec": {
   "display_name": "Python 3",
   "language": "python",
   "name": "python3"
  },
  "language_info": {
   "codemirror_mode": {
    "name": "ipython",
    "version": 3
   },
   "file_extension": ".py",
   "mimetype": "text/x-python",
   "name": "python",
   "nbconvert_exporter": "python",
   "pygments_lexer": "ipython3",
   "version": "3.8.8"
  }
 },
 "nbformat": 4,
 "nbformat_minor": 5
}
